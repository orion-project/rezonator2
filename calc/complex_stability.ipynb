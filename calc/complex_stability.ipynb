{
 "cells": [
  {
   "cell_type": "code",
   "execution_count": null,
   "id": "c6b28162",
   "metadata": {},
   "outputs": [],
   "source": [
    "import numpy as np\n",
    "from rezonator import *\n",
    "import matplotlib.pyplot as plt"
   ]
  },
  {
   "cell_type": "code",
   "execution_count": null,
   "id": "0eb79917",
   "metadata": {},
   "outputs": [],
   "source": [
    "# Example resonator (see $PROJECT/bin/examples/spherical_complex.rez)\n",
    "\n",
    "# M1  d1  GA  d2  M2\n",
    "# (-------()-------)\n",
    "\n",
    "d1 = 0.1\n",
    "d2 = 0.1\n",
    "F = 0.25\n",
    "wl = 980e-9\n",
    "a2 = 1e5\n",
    "R1 = 0.1\n",
    "R2 = 0.1\n",
    "\n",
    "M_M1 = make_abcd(1, 0, -2.0/R1, 1)\n",
    "M_d1 = make_abcd(1, d1, 0, 1)\n",
    "M_GA = make_abcd(1, 0, -1/F - 1j*wl*a2/2.0/pi, 1)\n",
    "M_d2 = make_abcd(1, d2, 0, 1)\n",
    "M_M2 = make_abcd(1, 0, -2.0/R2, 1)\n",
    "M0 = M_M2 * M_d2 * M_GA * M_d1 * M_M1 * M_d1 * M_GA * M_d2\n",
    "print(\"M1\\n\", M_M1)\n",
    "print(\"d1\\n\", M_d1)\n",
    "print(\"GA\\n\", M_GA)\n",
    "print(\"d2\\n\", M_d2)\n",
    "print(\"M2\\n\", M_M2)\n",
    "print(\"M0\\n\", M0)"
   ]
  },
  {
   "cell_type": "code",
   "execution_count": null,
   "id": "cc6f7d9c",
   "metadata": {},
   "outputs": [],
   "source": [
    "def stab(d1):\n",
    "    M_d1 = make_abcd(1, d1, 0, 1)\n",
    "    M0 = M_M2 * M_d2 * M_GA * M_d1 * M_M1 * M_d1 * M_GA * M_d2\n",
    "    A, B, _, D = get_abcd(M0)\n",
    "    \n",
    "    gn = (A + D) / 2.0\n",
    "    g = 1.0 - (A + D)**2 / 4.0\n",
    "    \n",
    "    q = (D - A)/2.0/B + 1j * (1/B) * np.sqrt(g)\n",
    "    \n",
    "    return g, gn, q"
   ]
  },
  {
   "cell_type": "code",
   "execution_count": null,
   "id": "435e7d50",
   "metadata": {
    "scrolled": false
   },
   "outputs": [],
   "source": [
    "d1s = np.linspace(start=0, stop=0.12, num=50)\n",
    "gns_re = []\n",
    "gns_im = []\n",
    "gs_re = []\n",
    "gs_im = []\n",
    "qs = []\n",
    "for d1 in d1s:\n",
    "    g, gn, q = stab(d1)\n",
    "    gns_re.append(gw.real)\n",
    "    gns_im.append(gw.imag*1000) # bring to the same scale as real part\n",
    "    gs_re.append(g.real)\n",
    "    gs_im.append(g.imag*1000) # bring to the same scale as real part\n",
    "    qs.append(q.imag/4) # clamp to the same scale as other graphs\n",
    "\n",
    "# Imaginary part of self-consistent 1/q becomes zero when system gets unstable\n",
    "# Both real and imaginary parts of stability parameter show specific trend at the stability boundary\n",
    "# And real part of stability parameter satisfies the same conditions as in systems with pure-real matrices\n",
    "fig, (ax1, ax2) = plt.subplots(1, 2, figsize=(12,4))\n",
    "\n",
    "ax1.grid(True, linestyle=':')\n",
    "ax1.set_xlabel('d1 (m)')\n",
    "ax1.set_ylabel('1-(A+D)²/4')\n",
    "ax1.plot(d1s, gs_re, label='Re')\n",
    "ax1.plot(d1s, gs_im, label='Im')\n",
    "ax1.plot(d1s, qs, label='Im(1/q)')\n",
    "ax1.plot([stab_lim, stab_lim], [-2, 2], color='gray', linewidth=1)\n",
    "ax1.legend()\n",
    "\n",
    "ax2.grid(True, linestyle=':')\n",
    "ax2.set_xlabel('d1 (m)')\n",
    "ax2.set_ylabel('(A+D)/2')\n",
    "ax2.plot(d1s, gws_re, label='Re')\n",
    "ax2.plot(d1s, gws_im, label='Im')\n",
    "ax2.plot(d1s, qs, label='Im(1/q)')\n",
    "ax2.plot([0.1, 0.1], [-1.5, 1.5], color='gray', linewidth=1)\n",
    "ax2.plot([0, 0.12], [-1, -1], color='gray', linewidth=1)\n",
    "ax2.plot([0, 0.12], [1, 1], color='gray', linewidth=1)\n",
    "ax2.legend()\n"
   ]
  },
  {
   "cell_type": "code",
   "execution_count": null,
   "id": "3da3f048",
   "metadata": {},
   "outputs": [],
   "source": []
  }
 ],
 "metadata": {
  "kernelspec": {
   "display_name": "Python 3 (ipykernel)",
   "language": "python",
   "name": "python3"
  },
  "language_info": {
   "codemirror_mode": {
    "name": "ipython",
    "version": 3
   },
   "file_extension": ".py",
   "mimetype": "text/x-python",
   "name": "python",
   "nbconvert_exporter": "python",
   "pygments_lexer": "ipython3",
   "version": "3.8.0"
  }
 },
 "nbformat": 4,
 "nbformat_minor": 5
}
